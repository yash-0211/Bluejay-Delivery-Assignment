{
  "nbformat": 4,
  "nbformat_minor": 0,
  "metadata": {
    "colab": {
      "provenance": []
    },
    "kernelspec": {
      "name": "python3",
      "display_name": "Python 3"
    },
    "language_info": {
      "name": "python"
    }
  },
  "cells": [
    {
      "cell_type": "code",
      "execution_count": 109,
      "metadata": {
        "id": "JbKlBzO9FhkK"
      },
      "outputs": [],
      "source": [
        "import numpy as np\n",
        "import pandas as pd"
      ]
    },
    {
      "cell_type": "code",
      "source": [
        "data=pd.read_csv(\"/content/data.csv\")\n",
        "output= open(\"Output.txt\",'w')\n",
        "data.head()"
      ],
      "metadata": {
        "colab": {
          "base_uri": "https://localhost:8080/",
          "height": 310
        },
        "id": "dPJsMic7Gmvv",
        "outputId": "c761002f-9af9-47da-9ea9-85c269c03d2b"
      },
      "execution_count": 110,
      "outputs": [
        {
          "output_type": "execute_result",
          "data": {
            "text/plain": [
              "  Position ID Position Status                 Time             Time Out  \\\n",
              "0   WFS000054          Active                  NaN                  NaN   \n",
              "1   WFS000065          Active  09/12/2023 10:08 AM  09/12/2023 01:53 PM   \n",
              "2   WFS000065          Active  09/12/2023 02:23 PM  09/12/2023 07:02 PM   \n",
              "3   WFS000065          Active  09/13/2023 10:08 AM  09/13/2023 02:20 PM   \n",
              "4   WFS000065          Active  09/13/2023 02:50 PM  09/13/2023 08:44 PM   \n",
              "\n",
              "  Timecard Hours (as Time) Pay Cycle Start Date Pay Cycle End Date  \\\n",
              "0                      NaN                  NaN                NaN   \n",
              "1                     3:45           09/10/2023         09/23/2023   \n",
              "2                     4:39           09/10/2023         09/23/2023   \n",
              "3                     4:12           09/10/2023         09/23/2023   \n",
              "4                     5:54           09/10/2023         09/23/2023   \n",
              "\n",
              "     Employee Name  File Number  \n",
              "0  SiWgh, PraGhjEM           54  \n",
              "1  REsaXiaWE, XAis           65  \n",
              "2  REsaXiaWE, XAis           65  \n",
              "3  REsaXiaWE, XAis           65  \n",
              "4  REsaXiaWE, XAis           65  "
            ],
            "text/html": [
              "\n",
              "  <div id=\"df-0f1072bf-7e88-40db-ac26-43bb23bdde5c\" class=\"colab-df-container\">\n",
              "    <div>\n",
              "<style scoped>\n",
              "    .dataframe tbody tr th:only-of-type {\n",
              "        vertical-align: middle;\n",
              "    }\n",
              "\n",
              "    .dataframe tbody tr th {\n",
              "        vertical-align: top;\n",
              "    }\n",
              "\n",
              "    .dataframe thead th {\n",
              "        text-align: right;\n",
              "    }\n",
              "</style>\n",
              "<table border=\"1\" class=\"dataframe\">\n",
              "  <thead>\n",
              "    <tr style=\"text-align: right;\">\n",
              "      <th></th>\n",
              "      <th>Position ID</th>\n",
              "      <th>Position Status</th>\n",
              "      <th>Time</th>\n",
              "      <th>Time Out</th>\n",
              "      <th>Timecard Hours (as Time)</th>\n",
              "      <th>Pay Cycle Start Date</th>\n",
              "      <th>Pay Cycle End Date</th>\n",
              "      <th>Employee Name</th>\n",
              "      <th>File Number</th>\n",
              "    </tr>\n",
              "  </thead>\n",
              "  <tbody>\n",
              "    <tr>\n",
              "      <th>0</th>\n",
              "      <td>WFS000054</td>\n",
              "      <td>Active</td>\n",
              "      <td>NaN</td>\n",
              "      <td>NaN</td>\n",
              "      <td>NaN</td>\n",
              "      <td>NaN</td>\n",
              "      <td>NaN</td>\n",
              "      <td>SiWgh, PraGhjEM</td>\n",
              "      <td>54</td>\n",
              "    </tr>\n",
              "    <tr>\n",
              "      <th>1</th>\n",
              "      <td>WFS000065</td>\n",
              "      <td>Active</td>\n",
              "      <td>09/12/2023 10:08 AM</td>\n",
              "      <td>09/12/2023 01:53 PM</td>\n",
              "      <td>3:45</td>\n",
              "      <td>09/10/2023</td>\n",
              "      <td>09/23/2023</td>\n",
              "      <td>REsaXiaWE, XAis</td>\n",
              "      <td>65</td>\n",
              "    </tr>\n",
              "    <tr>\n",
              "      <th>2</th>\n",
              "      <td>WFS000065</td>\n",
              "      <td>Active</td>\n",
              "      <td>09/12/2023 02:23 PM</td>\n",
              "      <td>09/12/2023 07:02 PM</td>\n",
              "      <td>4:39</td>\n",
              "      <td>09/10/2023</td>\n",
              "      <td>09/23/2023</td>\n",
              "      <td>REsaXiaWE, XAis</td>\n",
              "      <td>65</td>\n",
              "    </tr>\n",
              "    <tr>\n",
              "      <th>3</th>\n",
              "      <td>WFS000065</td>\n",
              "      <td>Active</td>\n",
              "      <td>09/13/2023 10:08 AM</td>\n",
              "      <td>09/13/2023 02:20 PM</td>\n",
              "      <td>4:12</td>\n",
              "      <td>09/10/2023</td>\n",
              "      <td>09/23/2023</td>\n",
              "      <td>REsaXiaWE, XAis</td>\n",
              "      <td>65</td>\n",
              "    </tr>\n",
              "    <tr>\n",
              "      <th>4</th>\n",
              "      <td>WFS000065</td>\n",
              "      <td>Active</td>\n",
              "      <td>09/13/2023 02:50 PM</td>\n",
              "      <td>09/13/2023 08:44 PM</td>\n",
              "      <td>5:54</td>\n",
              "      <td>09/10/2023</td>\n",
              "      <td>09/23/2023</td>\n",
              "      <td>REsaXiaWE, XAis</td>\n",
              "      <td>65</td>\n",
              "    </tr>\n",
              "  </tbody>\n",
              "</table>\n",
              "</div>\n",
              "    <div class=\"colab-df-buttons\">\n",
              "\n",
              "  <div class=\"colab-df-container\">\n",
              "    <button class=\"colab-df-convert\" onclick=\"convertToInteractive('df-0f1072bf-7e88-40db-ac26-43bb23bdde5c')\"\n",
              "            title=\"Convert this dataframe to an interactive table.\"\n",
              "            style=\"display:none;\">\n",
              "\n",
              "  <svg xmlns=\"http://www.w3.org/2000/svg\" height=\"24px\" viewBox=\"0 -960 960 960\">\n",
              "    <path d=\"M120-120v-720h720v720H120Zm60-500h600v-160H180v160Zm220 220h160v-160H400v160Zm0 220h160v-160H400v160ZM180-400h160v-160H180v160Zm440 0h160v-160H620v160ZM180-180h160v-160H180v160Zm440 0h160v-160H620v160Z\"/>\n",
              "  </svg>\n",
              "    </button>\n",
              "\n",
              "  <style>\n",
              "    .colab-df-container {\n",
              "      display:flex;\n",
              "      gap: 12px;\n",
              "    }\n",
              "\n",
              "    .colab-df-convert {\n",
              "      background-color: #E8F0FE;\n",
              "      border: none;\n",
              "      border-radius: 50%;\n",
              "      cursor: pointer;\n",
              "      display: none;\n",
              "      fill: #1967D2;\n",
              "      height: 32px;\n",
              "      padding: 0 0 0 0;\n",
              "      width: 32px;\n",
              "    }\n",
              "\n",
              "    .colab-df-convert:hover {\n",
              "      background-color: #E2EBFA;\n",
              "      box-shadow: 0px 1px 2px rgba(60, 64, 67, 0.3), 0px 1px 3px 1px rgba(60, 64, 67, 0.15);\n",
              "      fill: #174EA6;\n",
              "    }\n",
              "\n",
              "    .colab-df-buttons div {\n",
              "      margin-bottom: 4px;\n",
              "    }\n",
              "\n",
              "    [theme=dark] .colab-df-convert {\n",
              "      background-color: #3B4455;\n",
              "      fill: #D2E3FC;\n",
              "    }\n",
              "\n",
              "    [theme=dark] .colab-df-convert:hover {\n",
              "      background-color: #434B5C;\n",
              "      box-shadow: 0px 1px 3px 1px rgba(0, 0, 0, 0.15);\n",
              "      filter: drop-shadow(0px 1px 2px rgba(0, 0, 0, 0.3));\n",
              "      fill: #FFFFFF;\n",
              "    }\n",
              "  </style>\n",
              "\n",
              "    <script>\n",
              "      const buttonEl =\n",
              "        document.querySelector('#df-0f1072bf-7e88-40db-ac26-43bb23bdde5c button.colab-df-convert');\n",
              "      buttonEl.style.display =\n",
              "        google.colab.kernel.accessAllowed ? 'block' : 'none';\n",
              "\n",
              "      async function convertToInteractive(key) {\n",
              "        const element = document.querySelector('#df-0f1072bf-7e88-40db-ac26-43bb23bdde5c');\n",
              "        const dataTable =\n",
              "          await google.colab.kernel.invokeFunction('convertToInteractive',\n",
              "                                                    [key], {});\n",
              "        if (!dataTable) return;\n",
              "\n",
              "        const docLinkHtml = 'Like what you see? Visit the ' +\n",
              "          '<a target=\"_blank\" href=https://colab.research.google.com/notebooks/data_table.ipynb>data table notebook</a>'\n",
              "          + ' to learn more about interactive tables.';\n",
              "        element.innerHTML = '';\n",
              "        dataTable['output_type'] = 'display_data';\n",
              "        await google.colab.output.renderOutput(dataTable, element);\n",
              "        const docLink = document.createElement('div');\n",
              "        docLink.innerHTML = docLinkHtml;\n",
              "        element.appendChild(docLink);\n",
              "      }\n",
              "    </script>\n",
              "  </div>\n",
              "\n",
              "\n",
              "<div id=\"df-152c3f39-8034-42b1-8de9-16ff9cd9aa4a\">\n",
              "  <button class=\"colab-df-quickchart\" onclick=\"quickchart('df-152c3f39-8034-42b1-8de9-16ff9cd9aa4a')\"\n",
              "            title=\"Suggest charts.\"\n",
              "            style=\"display:none;\">\n",
              "\n",
              "<svg xmlns=\"http://www.w3.org/2000/svg\" height=\"24px\"viewBox=\"0 0 24 24\"\n",
              "     width=\"24px\">\n",
              "    <g>\n",
              "        <path d=\"M19 3H5c-1.1 0-2 .9-2 2v14c0 1.1.9 2 2 2h14c1.1 0 2-.9 2-2V5c0-1.1-.9-2-2-2zM9 17H7v-7h2v7zm4 0h-2V7h2v10zm4 0h-2v-4h2v4z\"/>\n",
              "    </g>\n",
              "</svg>\n",
              "  </button>\n",
              "\n",
              "<style>\n",
              "  .colab-df-quickchart {\n",
              "      --bg-color: #E8F0FE;\n",
              "      --fill-color: #1967D2;\n",
              "      --hover-bg-color: #E2EBFA;\n",
              "      --hover-fill-color: #174EA6;\n",
              "      --disabled-fill-color: #AAA;\n",
              "      --disabled-bg-color: #DDD;\n",
              "  }\n",
              "\n",
              "  [theme=dark] .colab-df-quickchart {\n",
              "      --bg-color: #3B4455;\n",
              "      --fill-color: #D2E3FC;\n",
              "      --hover-bg-color: #434B5C;\n",
              "      --hover-fill-color: #FFFFFF;\n",
              "      --disabled-bg-color: #3B4455;\n",
              "      --disabled-fill-color: #666;\n",
              "  }\n",
              "\n",
              "  .colab-df-quickchart {\n",
              "    background-color: var(--bg-color);\n",
              "    border: none;\n",
              "    border-radius: 50%;\n",
              "    cursor: pointer;\n",
              "    display: none;\n",
              "    fill: var(--fill-color);\n",
              "    height: 32px;\n",
              "    padding: 0;\n",
              "    width: 32px;\n",
              "  }\n",
              "\n",
              "  .colab-df-quickchart:hover {\n",
              "    background-color: var(--hover-bg-color);\n",
              "    box-shadow: 0 1px 2px rgba(60, 64, 67, 0.3), 0 1px 3px 1px rgba(60, 64, 67, 0.15);\n",
              "    fill: var(--button-hover-fill-color);\n",
              "  }\n",
              "\n",
              "  .colab-df-quickchart-complete:disabled,\n",
              "  .colab-df-quickchart-complete:disabled:hover {\n",
              "    background-color: var(--disabled-bg-color);\n",
              "    fill: var(--disabled-fill-color);\n",
              "    box-shadow: none;\n",
              "  }\n",
              "\n",
              "  .colab-df-spinner {\n",
              "    border: 2px solid var(--fill-color);\n",
              "    border-color: transparent;\n",
              "    border-bottom-color: var(--fill-color);\n",
              "    animation:\n",
              "      spin 1s steps(1) infinite;\n",
              "  }\n",
              "\n",
              "  @keyframes spin {\n",
              "    0% {\n",
              "      border-color: transparent;\n",
              "      border-bottom-color: var(--fill-color);\n",
              "      border-left-color: var(--fill-color);\n",
              "    }\n",
              "    20% {\n",
              "      border-color: transparent;\n",
              "      border-left-color: var(--fill-color);\n",
              "      border-top-color: var(--fill-color);\n",
              "    }\n",
              "    30% {\n",
              "      border-color: transparent;\n",
              "      border-left-color: var(--fill-color);\n",
              "      border-top-color: var(--fill-color);\n",
              "      border-right-color: var(--fill-color);\n",
              "    }\n",
              "    40% {\n",
              "      border-color: transparent;\n",
              "      border-right-color: var(--fill-color);\n",
              "      border-top-color: var(--fill-color);\n",
              "    }\n",
              "    60% {\n",
              "      border-color: transparent;\n",
              "      border-right-color: var(--fill-color);\n",
              "    }\n",
              "    80% {\n",
              "      border-color: transparent;\n",
              "      border-right-color: var(--fill-color);\n",
              "      border-bottom-color: var(--fill-color);\n",
              "    }\n",
              "    90% {\n",
              "      border-color: transparent;\n",
              "      border-bottom-color: var(--fill-color);\n",
              "    }\n",
              "  }\n",
              "</style>\n",
              "\n",
              "  <script>\n",
              "    async function quickchart(key) {\n",
              "      const quickchartButtonEl =\n",
              "        document.querySelector('#' + key + ' button');\n",
              "      quickchartButtonEl.disabled = true;  // To prevent multiple clicks.\n",
              "      quickchartButtonEl.classList.add('colab-df-spinner');\n",
              "      try {\n",
              "        const charts = await google.colab.kernel.invokeFunction(\n",
              "            'suggestCharts', [key], {});\n",
              "      } catch (error) {\n",
              "        console.error('Error during call to suggestCharts:', error);\n",
              "      }\n",
              "      quickchartButtonEl.classList.remove('colab-df-spinner');\n",
              "      quickchartButtonEl.classList.add('colab-df-quickchart-complete');\n",
              "    }\n",
              "    (() => {\n",
              "      let quickchartButtonEl =\n",
              "        document.querySelector('#df-152c3f39-8034-42b1-8de9-16ff9cd9aa4a button');\n",
              "      quickchartButtonEl.style.display =\n",
              "        google.colab.kernel.accessAllowed ? 'block' : 'none';\n",
              "    })();\n",
              "  </script>\n",
              "</div>\n",
              "    </div>\n",
              "  </div>\n"
            ]
          },
          "metadata": {},
          "execution_count": 110
        }
      ]
    },
    {
      "cell_type": "code",
      "source": [
        "# It is assumed that each row refers to a single Employee (commans should be removed)\n",
        "data['Employee Name']"
      ],
      "metadata": {
        "colab": {
          "base_uri": "https://localhost:8080/"
        },
        "id": "ihH-6uMXGxoQ",
        "outputId": "6056c6f7-1af1-4db3-f3b6-7cb0b09985a4"
      },
      "execution_count": 111,
      "outputs": [
        {
          "output_type": "execute_result",
          "data": {
            "text/plain": [
              "0                   SiWgh, PraGhjEM\n",
              "1                   REsaXiaWE, XAis\n",
              "2                   REsaXiaWE, XAis\n",
              "3                   REsaXiaWE, XAis\n",
              "4                   REsaXiaWE, XAis\n",
              "                   ...             \n",
              "1479                WgAyeW, RayCEWd\n",
              "1480                WgAyeW, RayCEWd\n",
              "1481                WgAyeW, RayCEWd\n",
              "1482                WgAyeW, RayCEWd\n",
              "1483    ArveXE RECerE, AWdres JesAs\n",
              "Name: Employee Name, Length: 1484, dtype: object"
            ]
          },
          "metadata": {},
          "execution_count": 111
        }
      ]
    },
    {
      "cell_type": "code",
      "source": [
        "def func(name):\n",
        "    # Function to removed commmas from name and capitalize 1st letter or each word\n",
        "    name= name.replace(\",\",\"\").title()\n",
        "    return name\n",
        "\n",
        "data['Employee Name'] = data['Employee Name'].apply(func)\n",
        "data['Employee Name']"
      ],
      "metadata": {
        "colab": {
          "base_uri": "https://localhost:8080/"
        },
        "id": "UMhf66fpjBgn",
        "outputId": "a9866baf-ff54-4748-c843-39d52ca4b4eb"
      },
      "execution_count": 112,
      "outputs": [
        {
          "output_type": "execute_result",
          "data": {
            "text/plain": [
              "0                   Siwgh Praghjem\n",
              "1                   Resaxiawe Xais\n",
              "2                   Resaxiawe Xais\n",
              "3                   Resaxiawe Xais\n",
              "4                   Resaxiawe Xais\n",
              "                   ...            \n",
              "1479                Wgayew Raycewd\n",
              "1480                Wgayew Raycewd\n",
              "1481                Wgayew Raycewd\n",
              "1482                Wgayew Raycewd\n",
              "1483    Arvexe Recere Awdres Jesas\n",
              "Name: Employee Name, Length: 1484, dtype: object"
            ]
          },
          "metadata": {},
          "execution_count": 112
        }
      ]
    },
    {
      "cell_type": "code",
      "source": [
        "len(data['Employee Name'].unique())"
      ],
      "metadata": {
        "colab": {
          "base_uri": "https://localhost:8080/"
        },
        "id": "TSiKvShc-8VM",
        "outputId": "164e7717-8184-4eaf-d589-bbeb4eb08268"
      },
      "execution_count": 113,
      "outputs": [
        {
          "output_type": "execute_result",
          "data": {
            "text/plain": [
              "106"
            ]
          },
          "metadata": {},
          "execution_count": 113
        }
      ]
    },
    {
      "cell_type": "markdown",
      "source": [
        "### Employees who has worked for 7 consecutive days-\n",
        "We will be considering the day as 'worked' based on the \"Time\" column which is expected to the Time of start of a shift"
      ],
      "metadata": {
        "id": "dPgk48_1nNNb"
      }
    },
    {
      "cell_type": "code",
      "source": [
        "print(\"Name and Position of Employees who have worked for 7 consecutive days:\", file=output )\n",
        "n,m= data.shape\n",
        "i=0\n",
        "worked_for_7_consecutive_days= [] # desired output\n",
        "while i<n: # Looping over all rows\n",
        "    name= data['Employee Name'][i]\n",
        "    position= data['Position ID'][i]\n",
        "    streak=1\n",
        "    if data['Time'][i] is not np.nan:\n",
        "        prev= int(data['Time'][i].split(\"/\")[1])\n",
        "    else:\n",
        "        prev= None\n",
        "    i += 1\n",
        "    while i<n and data['Employee Name'][i]==name: # Looping over one Employee\n",
        "        if data['Time'][i] is np.nan:\n",
        "            i += 1\n",
        "            continue\n",
        "        this = int(data['Time'][i].split(\"/\")[1])\n",
        "        if this==prev:\n",
        "            i += 1\n",
        "            continue\n",
        "        if this==prev+1:\n",
        "            streak += 1\n",
        "            if streak==7:\n",
        "                worked_for_7_consecutive_days.append((name,position))\n",
        "                print(name,\" , PositionID=\",position, file= output)\n",
        "                while i<n and data['Employee Name'][i]==name:\n",
        "                    # Since this employee is already added to our list, we skip rows with his/her name\n",
        "                    i += 1\n",
        "                break\n",
        "        else:\n",
        "            # streak breaks if this != prev+1\n",
        "            streak=1\n",
        "        i += 1\n",
        "        prev= this\n",
        "print(\"---------------------------------------------------------------------------------------\", file=output)"
      ],
      "metadata": {
        "id": "lIRyUF2LCutV"
      },
      "execution_count": 114,
      "outputs": []
    },
    {
      "cell_type": "code",
      "source": [
        "worked_for_7_consecutive_days"
      ],
      "metadata": {
        "colab": {
          "base_uri": "https://localhost:8080/"
        },
        "id": "XdM8jSX7hVxw",
        "outputId": "7218d538-14ed-48f3-a87d-877b98c09b01"
      },
      "execution_count": 115,
      "outputs": [
        {
          "output_type": "execute_result",
          "data": {
            "text/plain": [
              "[('Sparks Kewwemh', 'WFS000101'),\n",
              " ('Siwgh Jaspreem', 'WFS000424'),\n",
              " ('Cereira Jr Jese', 'WFS000456'),\n",
              " ('Gaewdia Jaaw Carxes', 'WFS000473')]"
            ]
          },
          "metadata": {},
          "execution_count": 115
        }
      ]
    },
    {
      "cell_type": "markdown",
      "source": [
        "### Employees who have less than 10 hours of time between shifts but greater than 1 hour"
      ],
      "metadata": {
        "id": "jvfRKF-w_EBO"
      }
    },
    {
      "cell_type": "code",
      "source": [
        "def time_diff(t1,t2):\n",
        "    # Function to calculate the time difference(in hours) and check whether it fulfils our condition\n",
        "    if t1 is np.nan or t2 is np.nan:\n",
        "        return False\n",
        "\n",
        "    date1, time1, p1= t1.split(\" \")\n",
        "    date2, time2, p2= t2.split(\" \")\n",
        "    hour1,min1= (time1.split(\":\"))\n",
        "    hour2, min2= time2.split(\":\")\n",
        "    hour1, min1, hour2, min2 = int(hour1), int(min1), int(hour2), int(min2)\n",
        "\n",
        "    if p1==\"PM\":\n",
        "        hour1 += 12\n",
        "    if p2==\"PM\":\n",
        "        hour2 += 12\n",
        "\n",
        "    day_diff= int(date1.split(\"/\")[1])-int(date2.split(\"/\")[1])\n",
        "    if day_diff>=2: return False\n",
        "    if day_diff==0:\n",
        "        net_diff= hour2-hour1\n",
        "    else:\n",
        "        net_diff= 24-hour1 + hour2\n",
        "    if net_diff>1 and net_diff<10:\n",
        "        return True\n",
        "    return False\n",
        "\n",
        "\n",
        "print(\"Name and Position of employees who have less than 10 hours of time between shifts but greater than 1 hour:\", file=output )\n",
        "time_between_shifts = []\n",
        "i= 0\n",
        "while i<n:\n",
        "    # We calculate the difference b/w \"Time\" of current row and \"Time Out\" of previous row\n",
        "    name= data['Employee Name'][i]\n",
        "    position= data['Position ID'][i]\n",
        "    prev_tout= data['Time Out'][i]\n",
        "    i += 1\n",
        "    while i<n and data['Employee Name'][i]==name:\n",
        "        if  time_diff(prev_tout, data['Time'][i]):\n",
        "            time_between_shifts.append((name, position))\n",
        "            print(name,\" , PositionID=\",position, file= output)\n",
        "            while i<n and data['Employee Name'][i]==name:\n",
        "                i += 1\n",
        "            break\n",
        "        prev_tout= data['Time Out'][i]\n",
        "        i += 1\n",
        "print(\"---------------------------------------------------------------------------------------\", file=output)\n",
        "time_between_shifts"
      ],
      "metadata": {
        "colab": {
          "base_uri": "https://localhost:8080/"
        },
        "id": "t5lfQ2OW_Dfp",
        "outputId": "b07287ec-0ca2-44d8-c918-f68d3ca88811"
      },
      "execution_count": 116,
      "outputs": [
        {
          "output_type": "execute_result",
          "data": {
            "text/plain": [
              "[('Camaxawe Ceghaw', 'WFS000153'),\n",
              " ('Xee Xacar', 'WFS000200'),\n",
              " ('Payaw Dawiex', 'WFS000368'),\n",
              " ('Cereira Jr Jese', 'WFS000456'),\n",
              " ('Perkiws Marrawce', 'WFS000469'),\n",
              " ('Cemma Jessica', 'WFS000503'),\n",
              " ('Caragixxa Awmhewy', 'WFS000514'),\n",
              " ('Dexgadixxe Redarme Chrismiaw S', 'WFS000523'),\n",
              " ('Hacixmew Deawme Devew', 'WFS000536')]"
            ]
          },
          "metadata": {},
          "execution_count": 116
        }
      ]
    },
    {
      "cell_type": "markdown",
      "source": [
        "\n",
        "### Employees who has worked for more than 14 hours in a single shift-"
      ],
      "metadata": {
        "id": "xQ2IBwqnnMAb"
      }
    },
    {
      "cell_type": "code",
      "source": [
        "print(\"Name and position of employees who have worked for more than 14 hours in a single shift:\", file=output)\n",
        "worked_for_14hrs_shift= []\n",
        "i=0\n",
        "while i<n:\n",
        "    time= data['Timecard Hours (as Time)'][i]\n",
        "    name= data['Employee Name'][i]\n",
        "    position= data['Position ID'][i]\n",
        "    if time is np.nan or name is np.nan:\n",
        "        i += 1\n",
        "        continue\n",
        "    time= int(time.split(\":\")[0])\n",
        "    if time>=14:\n",
        "        worked_for_14hrs_shift.append((name, position))\n",
        "        print(name,\" , PositionID=\",position, file= output)\n",
        "        while i<n and data['Employee Name'][i]==name:\n",
        "            i += 1\n",
        "        continue\n",
        "    i += 1\n",
        "print(\"---------------------------------------------------------------------------------------\", file=output)\n",
        "worked_for_14hrs_shift"
      ],
      "metadata": {
        "colab": {
          "base_uri": "https://localhost:8080/"
        },
        "id": "T9WBVK0fnLcR",
        "outputId": "e3130b33-781f-4022-a7c9-b312b31fb912"
      },
      "execution_count": 117,
      "outputs": [
        {
          "output_type": "execute_result",
          "data": {
            "text/plain": [
              "[('Dexgadixxe Redarme Chrismiaw S', 'WFS000523')]"
            ]
          },
          "metadata": {},
          "execution_count": 117
        }
      ]
    }
  ]
}